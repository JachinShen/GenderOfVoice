{
 "cells": [
  {
   "cell_type": "markdown",
   "metadata": {},
   "source": [
    "# Machine Learing Nano Degree\n",
    "## Gender Recognition by Voice\n",
    "## Model Training"
   ]
  },
  {
   "cell_type": "markdown",
   "metadata": {},
   "source": [
    "In this project, I will try several **suprivised** machine learning algorithm on 3168 samples to predict gender accurately.\n",
    "\n",
    "First, I will try several models. Then, the best model will be optimized to achieve best performance.\n",
    "\n",
    "My goal is to construct a model to predict gender accurately.\n",
    "\n",
    "Dataset comes from [kaggle](https://www.kaggle.com/primaryobjects/voicegender). Features have been extracted by R packages, seewave and tuneR."
   ]
  },
  {
   "cell_type": "markdown",
   "metadata": {},
   "source": [
    "---\n",
    "## Preparation\n",
    "Load the necessary Python libraries and load preprocessed sets."
   ]
  },
  {
   "cell_type": "code",
   "execution_count": 1,
   "metadata": {},
   "outputs": [],
   "source": [
    "import numpy as np\n",
    "import pandas as pd\n",
    "import matplotlib.pyplot as plt\n",
    "import seaborn as sns\n",
    "import pickle\n",
    "from time import time\n",
    "%matplotlib inline"
   ]
  },
  {
   "cell_type": "code",
   "execution_count": 2,
   "metadata": {},
   "outputs": [],
   "source": [
    "with open('train_set.pkl', 'rb') as f:\n",
    "    X_train, y_train = pickle.load(f)"
   ]
  },
  {
   "cell_type": "code",
   "execution_count": 3,
   "metadata": {},
   "outputs": [],
   "source": [
    "with open('val_set.pkl', 'rb') as f:\n",
    "    X_val, y_val = pickle.load(f)"
   ]
  },
  {
   "cell_type": "code",
   "execution_count": 4,
   "metadata": {},
   "outputs": [],
   "source": [
    "with open('test_set.pkl', 'rb') as f:\n",
    "    X_test, y_test = pickle.load(f)"
   ]
  },
  {
   "cell_type": "markdown",
   "metadata": {},
   "source": [
    "---\n",
    "## Evaluation of Performance"
   ]
  },
  {
   "cell_type": "markdown",
   "metadata": {},
   "source": [
    "### Evaluation Standards\n",
    "This project is aimed to distinguish voice of male and female. The importance equals. So precision and recall rate means nothing. Thus, **accuracy** is evaluation standards."
   ]
  },
  {
   "cell_type": "markdown",
   "metadata": {},
   "source": [
    "### Naive Model\n",
    "If we simply predict every voice is female, we can achieve an accuracy of 50%."
   ]
  },
  {
   "cell_type": "markdown",
   "metadata": {},
   "source": [
    "## Surprivised Machine Learning Models\n",
    "### Candidate Models\n",
    "- LogisticRegression\n",
    "- DecisionTree\n",
    "- RandomForest\n",
    "- SVM"
   ]
  },
  {
   "cell_type": "markdown",
   "metadata": {},
   "source": [
    "### Advantages and Disadvantages\n",
    "Reference:\n",
    "\n",
    "- http://blog.sciencenet.cn/blog-520608-745856.html\n",
    "- https://www.quora.com/What-are-the-advantages-of-different-classification-algorithms\n",
    "- http://idatamining.net/blog/?p=1179"
   ]
  },
  {
   "cell_type": "markdown",
   "metadata": {},
   "source": [
    "#### Model 1\n",
    "- Name: LogisticRegression\n",
    "- Advantages:\n",
    "    - Fast\n",
    "    - Simple\n",
    "    - Giving correlation of features\n",
    "- Disadvantages:\n",
    "    - Only good at dataset of linear correlation\n",
    "    - Needing conversion for more complex correlation\n",
    "    - Easily under-fitted\n",
    "    - Poor at large feature space"
   ]
  },
  {
   "cell_type": "markdown",
   "metadata": {},
   "source": [
    "#### Model 2\n",
    "- Name: DecisionTree\n",
    "- Advantages:\n",
    "    - Able to describe nonlinear correlation\n",
    "    - Fast\n",
    "    - Explanatory\n",
    "    - Compatible with missing features\n",
    "- Disadvantage:\n",
    "    - Easily over-fitted"
   ]
  },
  {
   "cell_type": "markdown",
   "metadata": {},
   "source": [
    "#### Model 3\n",
    "- Name: RandomForest\n",
    "- Advantages:\n",
    "    - Able to process large feature space\n",
    "    - Compatible with missing features\n",
    "    - Explanatory\n",
    "- Disadvantages:\n",
    "    - Over-fit at dataset with much noise"
   ]
  },
  {
   "cell_type": "markdown",
   "metadata": {},
   "source": [
    "#### Model 4\n",
    "- Name: SVM\n",
    "- Advantages:\n",
    "    - Generalization\n",
    "    - Able to process nolinear correlation\n",
    "- Disadvantages:\n",
    "    - Sensible to kernel function\n",
    "    - Slow\n",
    "    - Little explanatory"
   ]
  },
  {
   "cell_type": "markdown",
   "metadata": {},
   "source": [
    "### Create Predicting and Evaluating Pipeline"
   ]
  },
  {
   "cell_type": "code",
   "execution_count": 5,
   "metadata": {},
   "outputs": [],
   "source": [
    "from sklearn.metrics import accuracy_score\n",
    "\n",
    "def train_predict(learner, sample_size, X_train, y_train, X_val, y_val): \n",
    "    '''\n",
    "    Automatically train, predict model and record consuming time.\n",
    "    : learner: the model to be trained and predicted\n",
    "    : sample_size: the size of samples to train\n",
    "    : X_train: features of training set\n",
    "    : y_train: label of training set\n",
    "    : X_val: features of validation set\n",
    "    : y_val: label of validation set\n",
    "    : return: a dict containing \"train_time\", \"pred_time\", \"acc_train\", \"acc_val\".\n",
    "    '''\n",
    "    \n",
    "    results = {}\n",
    "    \n",
    "    # train and record time\n",
    "    start = time()\n",
    "    learner = learner.fit(X_train[:sample_size], y_train[:sample_size])\n",
    "    end = time()\n",
    "    \n",
    "    # get time for training\n",
    "    results['train_time'] = end - start\n",
    "    \n",
    "    # predict validation and train set, and record time\n",
    "    start = time()\n",
    "    predictions_val = learner.predict(X_val)\n",
    "    predictions_train = learner.predict(X_train)\n",
    "    end = time()\n",
    "    #predictions_train = [round(value) for value in predictions_train]\n",
    "    #predictions_val = [round(value) for value in predictions_val]\n",
    "    \n",
    "    # get predict time\n",
    "    results['pred_time'] = end - start\n",
    "            \n",
    "    # get training accuracy\n",
    "    results['acc_train'] = accuracy_score(y_train, predictions_train)\n",
    "        \n",
    "    # get validation accuaray\n",
    "    results['acc_val'] = accuracy_score(y_val, predictions_val)\n",
    "    \n",
    "    print(\"{} trained on {} samples.\".format(learner.__class__.__name__, sample_size))\n",
    "        \n",
    "    return results"
   ]
  },
  {
   "cell_type": "markdown",
   "metadata": {},
   "source": [
    "### Evaluate Models"
   ]
  },
  {
   "cell_type": "code",
   "execution_count": 6,
   "metadata": {
    "scrolled": true
   },
   "outputs": [
    {
     "name": "stdout",
     "output_type": "stream",
     "text": [
      "LogisticRegression trained on 20 samples.\n",
      "LogisticRegression trained on 202 samples.\n",
      "LogisticRegression trained on 2027 samples.\n",
      "DecisionTreeClassifier trained on 20 samples.\n",
      "DecisionTreeClassifier trained on 202 samples.\n",
      "DecisionTreeClassifier trained on 2027 samples.\n",
      "RandomForestClassifier trained on 20 samples.\n",
      "RandomForestClassifier trained on 202 samples.\n",
      "RandomForestClassifier trained on 2027 samples.\n",
      "SVC trained on 20 samples.\n",
      "SVC trained on 202 samples.\n",
      "SVC trained on 2027 samples.\n"
     ]
    }
   ],
   "source": [
    "# import models\n",
    "from sklearn.linear_model import LogisticRegression\n",
    "from sklearn.tree import DecisionTreeClassifier\n",
    "from sklearn.ensemble import RandomForestClassifier\n",
    "from sklearn.svm import SVC\n",
    "\n",
    "# init\n",
    "clf_A = LogisticRegression()\n",
    "clf_B = DecisionTreeClassifier(random_state = 157)\n",
    "clf_C = RandomForestClassifier(random_state = 271)\n",
    "clf_D = SVC()\n",
    "\n",
    "# get 1% 10% 100% sample size\n",
    "samples_1 = int(len(X_train) * 0.01)\n",
    "samples_10 = int(len(X_train) * 0.1)\n",
    "samples_100 = len(X_train)\n",
    "\n",
    "# collect results\n",
    "results = {}\n",
    "for clf in [clf_A, clf_B, clf_C, clf_D]:\n",
    "    clf_name = clf.__class__.__name__\n",
    "    results[clf_name] = {}\n",
    "    for i, samples in enumerate([samples_1, samples_10, samples_100]):\n",
    "        results[clf_name][i] = train_predict(clf, samples, X_train, y_train, X_val, y_val)"
   ]
  },
  {
   "cell_type": "code",
   "execution_count": 7,
   "metadata": {
    "scrolled": false
   },
   "outputs": [
    {
     "data": {
      "image/png": "[encoded data removed]",
      "text/plain": [
       "<Figure size 1080x1728 with 4 Axes>"
      ]
     },
     "metadata": {},
     "output_type": "display_data"
    }
   ],
   "source": [
    "# show results\n",
    "f, (ax1, ax2, ax3, ax4) = plt.subplots(4, 1, figsize = (15, 24))\n",
    "for axi, compare in zip([ax1, ax2, ax3, ax4], [\"train_time\", \"pred_time\", \"acc_train\", \"acc_val\"]):\n",
    "    x = [\"{}_{}\".format(clf_name, samples) \n",
    "         for samples in [samples_1, samples_10, samples_100]\n",
    "         for clf_name in [\"Log\", \"DecTree\", \"Random\", \"SVC\"]]\n",
    "    y = [results[clf.__class__.__name__][i][compare] \n",
    "         for i in range(3)\n",
    "         for clf in [clf_A, clf_B, clf_C, clf_D] ]\n",
    "    sns.barplot(x, y, ax = axi)\n",
    "    axi.set_ylabel(compare)\n",
    "        \n",
    "plt.show()"
   ]
  },
  {
   "cell_type": "markdown",
   "metadata": {},
   "source": [
    "---\n",
    "## Optimize Model"
   ]
  },
  {
   "cell_type": "markdown",
   "metadata": {},
   "source": [
    "### Model Selection\n",
    "RandomForest has the best validation accuracy at all the time. And it costs little time. Therefore, RandomForest is chosen."
   ]
  },
  {
   "cell_type": "markdown",
   "metadata": {},
   "source": [
    "### Optimize"
   ]
  },
  {
   "cell_type": "code",
   "execution_count": 8,
   "metadata": {
    "scrolled": false
   },
   "outputs": [
    {
     "name": "stdout",
     "output_type": "stream",
     "text": [
      "{'criterion': 'entropy', 'max_depth': 12, 'n_estimators': 400}\n",
      "Unoptimized model\n",
      "------\n",
      "Accuracy score on validation data: 0.9783\n",
      "\n",
      "Optimized Model\n",
      "------\n",
      "Final accuracy score on the validation data: 0.9822\n"
     ]
    }
   ],
   "source": [
    "# import model selection\n",
    "from sklearn.model_selection import GridSearchCV\n",
    "from sklearn.metrics import make_scorer\n",
    "from sklearn.model_selection import KFold\n",
    "\n",
    "# init model\n",
    "clf = RandomForestClassifier(random_state=271)\n",
    "\n",
    "# the parameters to try\n",
    "parameters = {\n",
    "                \"n_estimators\": [10, 50, 100, 200, 400],\n",
    "                \"criterion\": [\"gini\", \"entropy\"],\n",
    "                \"max_depth\": [5, 8, 10, 12]\n",
    "             }\n",
    "\n",
    "\n",
    "# use grid search, accuarcy as scoring standard, 5 fold\n",
    "grid_obj = GridSearchCV(clf, parameters, scoring = \"accuracy\", cv = 5)\n",
    "\n",
    "# use train data to get best parameters\n",
    "grid_obj.fit(X_train, y_train)\n",
    "\n",
    "# print best parameters\n",
    "print(grid_obj.best_params_)\n",
    "\n",
    "# get best estimator\n",
    "best_clf = grid_obj.best_estimator_\n",
    "\n",
    "# use unoptimized model to predict for comparasion\n",
    "predictions = (clf.fit(X_train, y_train)).predict(X_val)\n",
    "best_predictions = best_clf.predict(X_val)\n",
    "\n",
    "# print results\n",
    "print(\"Unoptimized model\\n------\")\n",
    "print(\"Accuracy score on validation data: {:.4f}\".format(accuracy_score(y_val, predictions)))\n",
    "print(\"\\nOptimized Model\\n------\")\n",
    "print(\"Final accuracy score on the validation data: {:.4f}\".format(accuracy_score(y_val, best_predictions)))"
   ]
  },
  {
   "cell_type": "markdown",
   "metadata": {},
   "source": [
    "---\n",
    "## Feature Importance\n",
    "Not all the features contribute a lot. In fact, some important features can provide enough information.\n",
    "\n",
    "For example, the male's voice sounds thick than the female's. So, perhaps we can get pretty good results just using `meanfun`.\n",
    "\n",
    "### The Top-5 important Features"
   ]
  },
  {
   "cell_type": "code",
   "execution_count": 9,
   "metadata": {
    "scrolled": true
   },
   "outputs": [],
   "source": [
    "# train a model\n",
    "model = RandomForestClassifier(random_state = 125)\n",
    "model.fit(X_train, y_train)\n",
    "\n",
    "# get importances\n",
    "importances = model.feature_importances_"
   ]
  },
  {
   "cell_type": "code",
   "execution_count": 10,
   "metadata": {
    "scrolled": false
   },
   "outputs": [
    {
     "data": {
      "image/png": "[encoded data removed]",
      "text/plain": [
       "<Figure size 864x864 with 1 Axes>"
      ]
     },
     "metadata": {},
     "output_type": "display_data"
    }
   ],
   "source": [
    "# sort importances\n",
    "indices = np.argsort(importances)[::-1]\n",
    "columns = X_train.columns.values[indices[:5]]\n",
    "values = importances[indices][:5]\n",
    "\n",
    "# draw\n",
    "plt.subplots(figsize = (12, 12))\n",
    "sns.barplot(columns, values)\n",
    "plt.show()"
   ]
  },
  {
   "cell_type": "markdown",
   "metadata": {},
   "source": [
    "The top-5 important features are `IQR`, `meanfun`, `Q25`, `sd`, `sp.ent`. And 3 of them, `IQR`, `meanfun`, `sd` matches observation before.\n",
    "\n",
    "The sum weights of these 5 features is over 0.7. So I can believe that these 5 features provide most of useful information.\n",
    "\n",
    "### Reduce Feature Space\n",
    "\n",
    "Only using the top-5 important feautures can simplift the model, save time for training and predicting. And it is convenient for application since only 5 features of original wave need to be extracted."
   ]
  },
  {
   "cell_type": "code",
   "execution_count": 11,
   "metadata": {
    "scrolled": false
   },
   "outputs": [
    {
     "name": "stdout",
     "output_type": "stream",
     "text": [
      "Final Model trained on full data\n",
      "------\n",
      "Accuracy on validation data: 0.9822\n",
      "\n",
      "Final Model trained on reduced data\n",
      "------\n",
      "Accuracy on validation data: 0.9803\n"
     ]
    }
   ],
   "source": [
    "from sklearn.base import clone\n",
    "\n",
    "# reduce feature space\n",
    "X_train_reduced = X_train[X_train.columns.values[indices[:5]]]\n",
    "X_val_reduced = X_val[X_val.columns.values[indices[:5]]]\n",
    "\n",
    "# get a model based on parameters of best estimator\n",
    "clf_on_reduced = (clone(best_clf)).fit(X_train_reduced, y_train)\n",
    "\n",
    "# predict\n",
    "reduced_predictions = clf_on_reduced.predict(X_val_reduced)\n",
    "\n",
    "# sum up\n",
    "print(\"Final Model trained on full data\\n------\")\n",
    "print(\"Accuracy on validation data: {:.4f}\".format(accuracy_score(y_val, best_predictions)))\n",
    "print(\"\\nFinal Model trained on reduced data\\n------\")\n",
    "print(\"Accuracy on validation data: {:.4f}\".format(accuracy_score(y_val, reduced_predictions)))"
   ]
  },
  {
   "cell_type": "markdown",
   "metadata": {},
   "source": [
    "https://www.kaggle.com/hadend/tuning-random-forest-parameters\n",
    "https://www.analyticsvidhya.com/blog/2015/06/tuning-random-forest-model/"
   ]
  },
  {
   "cell_type": "code",
   "execution_count": 12,
   "metadata": {
    "scrolled": false
   },
   "outputs": [
    {
     "name": "stdout",
     "output_type": "stream",
     "text": [
      "\n",
      "Final Model trained on full data\n",
      "------\n",
      "Final accuracy score on the test data: 0.9795\n"
     ]
    }
   ],
   "source": [
    "test_predictions = best_clf.predict(X_test)\n",
    "print(\"\\nFinal Model trained on full data\\n------\")\n",
    "print(\"Final accuracy score on the test data: {:.4f}\".format(accuracy_score(y_test, test_predictions)))"
   ]
  },
  {
   "cell_type": "code",
   "execution_count": 13,
   "metadata": {
    "scrolled": false
   },
   "outputs": [
    {
     "name": "stdout",
     "output_type": "stream",
     "text": [
      "\n",
      "Final Model trained on reduced data\n",
      "------\n",
      "Final accuracy score on the test data: 0.9763\n"
     ]
    }
   ],
   "source": [
    "X_test_reduced = X_test[X_test.columns.values[indices[:5]]]\n",
    "test_predictions = clf_on_reduced.predict(X_test_reduced)\n",
    "print(\"\\nFinal Model trained on reduced data\\n------\")\n",
    "print(\"Final accuracy score on the test data: {:.4f}\".format(accuracy_score(y_test, test_predictions)))"
   ]
  },
  {
   "cell_type": "markdown",
   "metadata": {},
   "source": [
    "Only little accuracy was sacrificed after reduction. Considering the reducing amount of calculation and simplification of feature extracting, it is reasonible to use the reduced model for application."
   ]
  },
  {
   "cell_type": "markdown",
   "metadata": {},
   "source": [
    "---\n",
    "## Save Model"
   ]
  },
  {
   "cell_type": "code",
   "execution_count": 14,
   "metadata": {},
   "outputs": [],
   "source": [
    "with open('model.pkl', 'wb') as fid:\n",
    "    pickle.dump(clf_on_reduced, fid,2) "
   ]
  },
  {
   "cell_type": "code",
   "execution_count": 15,
   "metadata": {
    "scrolled": true
   },
   "outputs": [
    {
     "ename": "NameError",
     "evalue": "name 'features_min' is not defined",
     "output_type": "error",
     "traceback": [
      "\u001b[0;31m---------------------------------------------------------------------------\u001b[0m",
      "\u001b[0;31mNameError\u001b[0m                                 Traceback (most recent call last)",
      "\u001b[0;32m<ipython-input-15-dfd4a0ecb002>\u001b[0m in \u001b[0;36m<module>\u001b[0;34m()\u001b[0m\n\u001b[0;32m----> 1\u001b[0;31m \u001b[0mfeatures_min_reduced\u001b[0m \u001b[0;34m=\u001b[0m \u001b[0mfeatures_min\u001b[0m\u001b[0;34m[\u001b[0m\u001b[0mindices\u001b[0m\u001b[0;34m[\u001b[0m\u001b[0;34m:\u001b[0m\u001b[0;36m5\u001b[0m\u001b[0;34m]\u001b[0m\u001b[0;34m]\u001b[0m\u001b[0;34m\u001b[0m\u001b[0m\n\u001b[0m\u001b[1;32m      2\u001b[0m \u001b[0mfeatures_max_reduced\u001b[0m \u001b[0;34m=\u001b[0m \u001b[0mfeatures_max\u001b[0m\u001b[0;34m[\u001b[0m\u001b[0mindices\u001b[0m\u001b[0;34m[\u001b[0m\u001b[0;34m:\u001b[0m\u001b[0;36m5\u001b[0m\u001b[0;34m]\u001b[0m\u001b[0;34m]\u001b[0m\u001b[0;34m\u001b[0m\u001b[0m\n\u001b[1;32m      3\u001b[0m \u001b[0;32mwith\u001b[0m \u001b[0mopen\u001b[0m\u001b[0;34m(\u001b[0m\u001b[0;34m'scale.pkl'\u001b[0m\u001b[0;34m,\u001b[0m \u001b[0;34m'wb'\u001b[0m\u001b[0;34m)\u001b[0m \u001b[0;32mas\u001b[0m \u001b[0mfid\u001b[0m\u001b[0;34m:\u001b[0m\u001b[0;34m\u001b[0m\u001b[0m\n\u001b[1;32m      4\u001b[0m     \u001b[0mpickle\u001b[0m\u001b[0;34m.\u001b[0m\u001b[0mdump\u001b[0m\u001b[0;34m(\u001b[0m\u001b[0;34m(\u001b[0m\u001b[0mfeatures_min_reduced\u001b[0m\u001b[0;34m,\u001b[0m \u001b[0mfeatures_max_reduced\u001b[0m\u001b[0;34m)\u001b[0m\u001b[0;34m,\u001b[0m \u001b[0mfid\u001b[0m\u001b[0;34m,\u001b[0m\u001b[0;36m2\u001b[0m\u001b[0;34m)\u001b[0m\u001b[0;34m\u001b[0m\u001b[0m\n",
      "\u001b[0;31mNameError\u001b[0m: name 'features_min' is not defined"
     ]
    }
   ],
   "source": [
    "features_min_reduced = features_min[indices[:5]]\n",
    "features_max_reduced = features_max[indices[:5]]\n",
    "with open('scale.pkl', 'wb') as fid:\n",
    "    pickle.dump((features_min_reduced, features_max_reduced), fid,2) "
   ]
  }
 ],
 "metadata": {
  "kernelspec": {
   "display_name": "Python 3",
   "language": "python",
   "name": "python3"
  },
  "language_info": {
   "codemirror_mode": {
    "name": "ipython",
    "version": 3
   },
   "file_extension": ".py",
   "mimetype": "text/x-python",
   "name": "python",
   "nbconvert_exporter": "python",
   "pygments_lexer": "ipython3",
   "version": "3.6.4"
  }
 },
 "nbformat": 4,
 "nbformat_minor": 2
}
