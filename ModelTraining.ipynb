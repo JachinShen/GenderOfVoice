{
 "cells": [
  {
   "cell_type": "markdown",
   "metadata": {},
   "source": [
    "# Machine Learing Nano Degree\n",
    "## Gender Recognition by Voice\n",
    "## Model Training"
   ]
  },
  {
   "cell_type": "markdown",
   "metadata": {},
   "source": [
    "In this project, I will try several **suprivised** machine learning algorithm on 3168 samples to predict gender accurately.\n",
    "\n",
    "First, I will try several models. Then, the best model will be optimized to achieve best performance.\n",
    "\n",
    "My goal is to construct a model to predict gender accurately.\n",
    "\n",
    "Dataset comes from [kaggle](https://www.kaggle.com/primaryobjects/voicegender). Features have been extracted by R packages, seewave and tuneR."
   ]
  },
  {
   "cell_type": "markdown",
   "metadata": {},
   "source": [
    "---\n",
    "## Preparation\n",
    "Load the necessary Python libraries and load preprocessed sets."
   ]
  },
  {
   "cell_type": "code",
   "execution_count": 242,
   "metadata": {},
   "outputs": [],
   "source": [
    "import numpy as np\n",
    "import pandas as pd\n",
    "import matplotlib.pyplot as plt\n",
    "import seaborn as sns\n",
    "import pickle\n",
    "from time import time\n",
    "%matplotlib inline"
   ]
  },
  {
   "cell_type": "code",
   "execution_count": 243,
   "metadata": {},
   "outputs": [],
   "source": [
    "with open('train_set.pkl', 'rb') as f:\n",
    "    X_train, y_train = pickle.load(f)"
   ]
  },
  {
   "cell_type": "code",
   "execution_count": 244,
   "metadata": {},
   "outputs": [],
   "source": [
    "with open('val_set.pkl', 'rb') as f:\n",
    "    X_val, y_val = pickle.load(f)"
   ]
  },
  {
   "cell_type": "code",
   "execution_count": 245,
   "metadata": {},
   "outputs": [],
   "source": [
    "with open('test_set.pkl', 'rb') as f:\n",
    "    X_test, y_test = pickle.load(f)"
   ]
  },
  {
   "cell_type": "code",
   "execution_count": 246,
   "metadata": {},
   "outputs": [],
   "source": [
    "with open('all_feature_min_max.pkl', 'rb') as f:\n",
    "    features_min, features_max = pickle.load(f)"
   ]
  },
  {
   "cell_type": "markdown",
   "metadata": {},
   "source": [
    "---\n",
    "## Evaluation of Performance"
   ]
  },
  {
   "cell_type": "markdown",
   "metadata": {},
   "source": [
    "### Evaluation Standards\n",
    "This project is aimed to distinguish voice of male and female. The importance equals. So precision and recall rate means nothing. Thus, **accuracy** is evaluation standards."
   ]
  },
  {
   "cell_type": "markdown",
   "metadata": {},
   "source": [
    "### Naive Model\n",
    "If we simply predict every voice is female, we can achieve an accuracy of 50%."
   ]
  },
  {
   "cell_type": "markdown",
   "metadata": {},
   "source": [
    "## Surprivised Machine Learning Models\n",
    "### Candidate Models\n",
    "- LogisticRegression\n",
    "- DecisionTree\n",
    "- RandomForest\n",
    "- SVM"
   ]
  },
  {
   "cell_type": "markdown",
   "metadata": {},
   "source": [
    "### Advantages and Disadvantages\n",
    "Reference:\n",
    "\n",
    "- http://blog.sciencenet.cn/blog-520608-745856.html\n",
    "- https://www.quora.com/What-are-the-advantages-of-different-classification-algorithms\n",
    "- http://idatamining.net/blog/?p=1179"
   ]
  },
  {
   "cell_type": "markdown",
   "metadata": {},
   "source": [
    "#### Model 1\n",
    "- Name: LogisticRegression\n",
    "- Advantages:\n",
    "    - Fast\n",
    "    - Simple\n",
    "    - Giving correlation of features\n",
    "- Disadvantages:\n",
    "    - Cannot work well directly at dataset of unlinear correlation\n",
    "    - Needing conversion for more complex correlation\n",
    "    - Easily under-fitted\n",
    "    - Poor at large feature space"
   ]
  },
  {
   "cell_type": "markdown",
   "metadata": {},
   "source": [
    "#### Model 2\n",
    "- Name: DecisionTree\n",
    "- Advantages:\n",
    "    - Able to describe nonlinear correlation\n",
    "    - Fast\n",
    "    - Explanatory\n",
    "    - Compatible with missing features\n",
    "- Disadvantage:\n",
    "    - Easily over-fitted"
   ]
  },
  {
   "cell_type": "markdown",
   "metadata": {},
   "source": [
    "#### Model 3\n",
    "- Name: RandomForest\n",
    "- Advantages:\n",
    "    - Able to process large feature space\n",
    "    - Compatible with missing features\n",
    "    - Explanatory\n",
    "- Disadvantages:\n",
    "    - Over-fit at dataset with much noise"
   ]
  },
  {
   "cell_type": "markdown",
   "metadata": {},
   "source": [
    "#### Model 4\n",
    "- Name: SVM\n",
    "- Advantages:\n",
    "    - Generalization\n",
    "    - Able to process nolinear correlation\n",
    "- Disadvantages:\n",
    "    - Sensible to kernel function\n",
    "    - Slow\n",
    "    - Little explanatory"
   ]
  },
  {
   "cell_type": "markdown",
   "metadata": {},
   "source": [
    "### Create Predicting and Evaluating Pipeline"
   ]
  },
  {
   "cell_type": "code",
   "execution_count": 247,
   "metadata": {},
   "outputs": [],
   "source": [
    "from sklearn.metrics import accuracy_score\n",
    "\n",
    "def train_predict(learner, sample_size, X_train, y_train, X_val, y_val): \n",
    "    '''\n",
    "    Automatically train, predict model and record consuming time.\n",
    "    : learner: the model to be trained and predicted\n",
    "    : sample_size: the size of samples to train\n",
    "    : X_train: features of training set\n",
    "    : y_train: label of training set\n",
    "    : X_val: features of validation set\n",
    "    : y_val: label of validation set\n",
    "    : return: a dict containing \"train_time\", \"pred_time\", \"acc_train\", \"acc_val\".\n",
    "    '''\n",
    "    \n",
    "    results = {}\n",
    "    \n",
    "    # train and record time\n",
    "    start = time()\n",
    "    learner = learner.fit(X_train[:sample_size], y_train[:sample_size])\n",
    "    end = time()\n",
    "    \n",
    "    # get time for training\n",
    "    results['train_time'] = end - start\n",
    "    \n",
    "    # predict validation and train set, and record time\n",
    "    start = time()\n",
    "    predictions_val = learner.predict(X_val)\n",
    "    predictions_train = learner.predict(X_train)\n",
    "    end = time()\n",
    "    #predictions_train = [round(value) for value in predictions_train]\n",
    "    #predictions_val = [round(value) for value in predictions_val]\n",
    "    \n",
    "    # get predict time\n",
    "    results['pred_time'] = end - start\n",
    "            \n",
    "    # get training accuracy\n",
    "    results['acc_train'] = accuracy_score(y_train, predictions_train)\n",
    "        \n",
    "    # get validation accuaray\n",
    "    results['acc_val'] = accuracy_score(y_val, predictions_val)\n",
    "    \n",
    "    print(\"{} trained on {} samples.\".format(learner.__class__.__name__, sample_size))\n",
    "        \n",
    "    return results"
   ]
  },
  {
   "cell_type": "markdown",
   "metadata": {},
   "source": [
    "### Evaluate Models"
   ]
  },
  {
   "cell_type": "code",
   "execution_count": 248,
   "metadata": {
    "scrolled": true
   },
   "outputs": [
    {
     "name": "stdout",
     "output_type": "stream",
     "text": [
      "LogisticRegression trained on 20 samples.\n",
      "LogisticRegression trained on 202 samples.\n",
      "LogisticRegression trained on 2027 samples.\n",
      "DecisionTreeClassifier trained on 20 samples.\n",
      "DecisionTreeClassifier trained on 202 samples.\n",
      "DecisionTreeClassifier trained on 2027 samples.\n",
      "RandomForestClassifier trained on 20 samples.\n",
      "RandomForestClassifier trained on 202 samples.\n",
      "RandomForestClassifier trained on 2027 samples.\n",
      "SVC trained on 20 samples.\n",
      "SVC trained on 202 samples.\n",
      "SVC trained on 2027 samples.\n"
     ]
    }
   ],
   "source": [
    "# import models\n",
    "from sklearn.linear_model import LogisticRegression\n",
    "from sklearn.tree import DecisionTreeClassifier\n",
    "from sklearn.ensemble import RandomForestClassifier\n",
    "from sklearn.svm import SVC\n",
    "\n",
    "# init\n",
    "clf_A = LogisticRegression(random_state = 68)\n",
    "clf_B = DecisionTreeClassifier(random_state = 157)\n",
    "clf_C = RandomForestClassifier(random_state = 271)\n",
    "clf_D = SVC(random_state = 352)\n",
    "\n",
    "# get 1% 10% 100% sample size\n",
    "samples_1 = int(len(X_train) * 0.01)\n",
    "samples_10 = int(len(X_train) * 0.1)\n",
    "samples_100 = len(X_train)\n",
    "\n",
    "# collect results\n",
    "results = {}\n",
    "for clf in [clf_A, clf_B, clf_C, clf_D]:\n",
    "    clf_name = clf.__class__.__name__\n",
    "    results[clf_name] = {}\n",
    "    for i, samples in enumerate([samples_1, samples_10, samples_100]):\n",
    "        results[clf_name][i] = train_predict(clf, samples, X_train, y_train, X_val, y_val)"
   ]
  },
  {
   "cell_type": "code",
   "execution_count": 249,
   "metadata": {
    "scrolled": false
   },
   "outputs": [
    {
     "data": {
      "image/png": "[encoded data removed]",
      "text/plain": [
       "<Figure size 1080x1728 with 4 Axes>"
      ]
     },
     "metadata": {},
     "output_type": "display_data"
    }
   ],
   "source": [
    "# show results\n",
    "fig, (ax1, ax2, ax3, ax4) = plt.subplots(4, 1, figsize = (15, 24))\n",
    "for axi, compare in zip([ax1, ax2, ax3, ax4], [\"train_time\", \"pred_time\", \"acc_train\", \"acc_val\"]):\n",
    "    x = [\"{}_{}\".format(clf_name, samples) \n",
    "         for samples in [samples_1, samples_10, samples_100]\n",
    "         for clf_name in [\"Log\", \"DecTree\", \"Random\", \"SVC\"]]\n",
    "    y = [results[clf.__class__.__name__][i][compare] \n",
    "         for i in range(3)\n",
    "         for clf in [clf_A, clf_B, clf_C, clf_D] ]\n",
    "    if axi is ax4:\n",
    "        plt.ylim((0.4, 1))\n",
    "    sns.barplot(x, y, ax = axi)\n",
    "    axi.set_ylabel(compare)\n",
    "        \n",
    "plt.show()\n",
    "fig.savefig(\"Four_model_compare.svg\")"
   ]
  },
  {
   "cell_type": "markdown",
   "metadata": {},
   "source": [
    "---\n",
    "## Optimize Model\n",
    "Use GridSearchCV to optimize the models."
   ]
  },
  {
   "cell_type": "code",
   "execution_count": 277,
   "metadata": {
    "scrolled": true
   },
   "outputs": [],
   "source": [
    "# import model selection\n",
    "from sklearn.model_selection import GridSearchCV\n",
    "from sklearn.metrics import make_scorer\n",
    "from sklearn.model_selection import KFold\n",
    "\n",
    "def optimize_model(learner, parameters, X_train, y_train, X_val, y_val):\n",
    "\n",
    "    results = {}\n",
    "    \n",
    "    # use grid search, accuarcy as scoring standard, 5 fold\n",
    "    grid_obj = GridSearchCV(learner, parameters, scoring = \"accuracy\", cv = 4)\n",
    "\n",
    "    # use train data to get best parameters\n",
    "    grid_obj.fit(X_train, y_train)\n",
    "\n",
    "    # print best parameters\n",
    "    print(\"{}'s best parameters: {}\".format(learner.__class__.__name__, grid_obj.best_params_))\n",
    "    \n",
    "    # get best estimator\n",
    "    best_learner = grid_obj.best_estimator_\n",
    "    \n",
    "    start = time()\n",
    "    clone(best_learner).fit(X_train, y_train)\n",
    "    end = time()\n",
    "    \n",
    "    # get time for training\n",
    "    results['train_time'] = end - start\n",
    "    \n",
    "    # predict validation and train set, and record time\n",
    "    start = time()\n",
    "    predictions_val = best_learner.predict(X_val)\n",
    "    predictions_train = best_learner.predict(X_train)\n",
    "    end = time()\n",
    "    \n",
    "    # get predict time\n",
    "    results['pred_time'] = end - start\n",
    "            \n",
    "    # get training accuracy\n",
    "    results['acc_train'] = accuracy_score(y_train, predictions_train)\n",
    "        \n",
    "    # get validation accuaray\n",
    "    results['acc_val'] = accuracy_score(y_val, predictions_val)\n",
    "    \n",
    "    return best_learner, results"
   ]
  },
  {
   "cell_type": "markdown",
   "metadata": {},
   "source": [
    "Optimized parameters:\n",
    "- LogisticRegression:\n",
    "    - C: Inverse of regularization strength. Smaller, stronger regularization\n",
    "    - solver: Algorithm to use to optimize\n",
    "\n",
    "- DecisionTree:\n",
    "    - criterion: How to calculate the quality of a split\n",
    "    - max_depth: The max depth of the tree\n",
    "    \n",
    "- RandomForest:\n",
    "    - n_estimators: The number of trees.\n",
    "    - criterion\n",
    "    - max_depth\n",
    "    \n",
    "- SVC:\n",
    "    - C: penalty of the error term\n",
    "    - gamma: kernel coefficient"
   ]
  },
  {
   "cell_type": "code",
   "execution_count": 390,
   "metadata": {},
   "outputs": [
    {
     "name": "stdout",
     "output_type": "stream",
     "text": [
      "LogisticRegression's best parameters: {'C': 2.0, 'solver': 'liblinear'}\n",
      "DecisionTreeClassifier's best parameters: {'criterion': 'entropy', 'max_depth': 8}\n",
      "RandomForestClassifier's best parameters: {'criterion': 'entropy', 'max_depth': 12, 'n_estimators': 100}\n",
      "SVC's best parameters: {'C': 1.0, 'gamma': 5}\n"
     ]
    }
   ],
   "source": [
    "# init model\n",
    "clf_A = LogisticRegression(random_state = 68)\n",
    "clf_B = DecisionTreeClassifier(random_state = 157)\n",
    "clf_C = RandomForestClassifier(random_state = 271)\n",
    "clf_D = SVC(probability=True, random_state = 452)\n",
    "\n",
    "# the parameters to try\n",
    "parameters_A = {\n",
    "    \"C\": [0.5, 1.0, 2.0],\n",
    "    \"solver\": ['liblinear', 'sag', 'saga']\n",
    "}\n",
    "\n",
    "parameters_B = {\n",
    "    \"criterion\": [\"gini\", \"entropy\"],\n",
    "    \"max_depth\": [8, 10, 12]\n",
    "}\n",
    "\n",
    "parameters_C = {\n",
    "    \"n_estimators\": [50, 100, 200],\n",
    "    \"criterion\": [\"gini\", \"entropy\"],\n",
    "    \"max_depth\": [8, 10, 12]\n",
    "}\n",
    "\n",
    "parameters_D = {\n",
    "    \"C\": [0.1, 0.5, 1.0],\n",
    "    \"gamma\": [1, 3, 5, 7]\n",
    "}\n",
    "# collect results\n",
    "results = {}\n",
    "best_clf = {}\n",
    "for (clf, parameters) in zip([clf_A, clf_B, clf_C, clf_D],\n",
    "                             [parameters_A, parameters_B, parameters_C, parameters_D]):\n",
    "    clf_name = clf.__class__.__name__\n",
    "    best_clf[clf_name], results[clf_name]= optimize_model(clf, parameters, X_train, y_train, X_val, y_val)"
   ]
  },
  {
   "cell_type": "code",
   "execution_count": 391,
   "metadata": {
    "scrolled": false
   },
   "outputs": [
    {
     "data": {
      "image/png": "[encoded data removed]",
      "text/plain": [
       "<Figure size 1080x1728 with 4 Axes>"
      ]
     },
     "metadata": {},
     "output_type": "display_data"
    }
   ],
   "source": [
    "# show results\n",
    "fig, (ax1, ax2, ax3, ax4) = plt.subplots(4, 1, figsize = (15, 24))\n",
    "ax3.set_ylim((0.9, 1))\n",
    "ax4.set_ylim((0.9, 1))\n",
    "for axi, compare in zip([ax1, ax2, ax3, ax4], [\"train_time\", \"pred_time\", \"acc_train\", \"acc_val\"]):\n",
    "    x = [\"Log\", \"DecTree\", \"Random\", \"SVC\"]\n",
    "    y = [results[clf.__class__.__name__][compare] \n",
    "         for clf in [clf_A, clf_B, clf_C, clf_D] ]\n",
    "    sns.barplot(x, y, ax = axi)\n",
    "    axi.set_ylabel(compare)\n",
    "        \n",
    "plt.show()\n",
    "fig.savefig(\"Four_optimized_model_compare.svg\")"
   ]
  },
  {
   "cell_type": "markdown",
   "metadata": {},
   "source": [
    "We can see that RandomForest achieves highest validation accuracy and costs accpetable predicting and training time. Thus, RandomForest is chosen as the final model."
   ]
  },
  {
   "cell_type": "code",
   "execution_count": 392,
   "metadata": {},
   "outputs": [
    {
     "name": "stdout",
     "output_type": "stream",
     "text": [
      "\n",
      "Optimized Model\n",
      "------\n",
      "Final accuracy score on the validation data: 0.9822\n"
     ]
    }
   ],
   "source": [
    "print(\"\\nOptimized Model\\n------\")\n",
    "print(\"Final accuracy score on the validation data: {:.4f}\".format(best_clf[\"SVC\"].score(X_val, y_val)))"
   ]
  },
  {
   "cell_type": "markdown",
   "metadata": {},
   "source": [
    "---\n",
    "## Feature Importance\n",
    "Not all the features contribute a lot. In fact, some important features can provide enough information.\n",
    "\n",
    "For example, the male's voice sounds thick than the female's. So, perhaps we can get pretty good results just using `meanfun`.\n",
    "\n"
   ]
  },
  {
   "cell_type": "markdown",
   "metadata": {},
   "source": [
    "### How accuracy changes with important features"
   ]
  },
  {
   "cell_type": "code",
   "execution_count": 254,
   "metadata": {},
   "outputs": [],
   "source": [
    "from sklearn.base import clone\n",
    "def train_important_feature(learner, sorted_importance, feature_ctr, X_train, y_train, X_val, y_val):\n",
    "    \n",
    "    # reduce feature space\n",
    "    columns_reduced = X_train.columns.values[sorted_importance[:feature_ctr]] \n",
    "    X_train_reduced = X_train[columns_reduced]\n",
    "    X_val_reduced = X_val[columns_reduced]\n",
    "\n",
    "    # get a model based on parameters of best estimator\n",
    "    print(\"Training on model with {} most important feature(s)\".format(feature_ctr))\n",
    "    clf_on_reduced = (clone(learner)).fit(X_train_reduced, y_train)\n",
    "\n",
    "    # predict\n",
    "    train_reduced_predictions = clf_on_reduced.predict(X_train_reduced)\n",
    "    val_reduced_predictions = clf_on_reduced.predict(X_val_reduced)\n",
    "    \n",
    "    return accuracy_score(y_train, train_reduced_predictions), accuracy_score(y_val, val_reduced_predictions)"
   ]
  },
  {
   "cell_type": "markdown",
   "metadata": {},
   "source": [
    "The way to extract feature importance from SVC is finded there: https://medium.com/@aneesha/visualising-top-features-in-linear-svm-with-scikit-learn-and-matplotlib-3454ab18a14d"
   ]
  },
  {
   "cell_type": "code",
   "execution_count": 326,
   "metadata": {
    "scrolled": false
   },
   "outputs": [
    {
     "name": "stdout",
     "output_type": "stream",
     "text": [
      "Training on model with 1 most important feature(s)\n",
      "Training on model with 2 most important feature(s)\n",
      "Training on model with 3 most important feature(s)\n",
      "Training on model with 4 most important feature(s)\n",
      "Training on model with 5 most important feature(s)\n",
      "Training on model with 6 most important feature(s)\n",
      "Training on model with 7 most important feature(s)\n",
      "Training on model with 8 most important feature(s)\n",
      "Training on model with 9 most important feature(s)\n",
      "Training on model with 10 most important feature(s)\n",
      "Training on model with 11 most important feature(s)\n",
      "Training on model with 12 most important feature(s)\n",
      "Training on model with 13 most important feature(s)\n",
      "Training on model with 14 most important feature(s)\n",
      "Training on model with 15 most important feature(s)\n",
      "Training on model with 16 most important feature(s)\n",
      "Training on model with 17 most important feature(s)\n",
      "Training on model with 18 most important feature(s)\n",
      "Training on model with 19 most important feature(s)\n"
     ]
    }
   ],
   "source": [
    "importance_results_train = []\n",
    "importance_results_val = []\n",
    "\n",
    "#best_random_forest = best_clf[\"RandomForestClassifier\"]\n",
    "# train a model\n",
    "# model = RandomForestClassifier(random_state = 125)\n",
    "model = SVC(kernel=\"linear\")\n",
    "model.fit(X_train, y_train)\n",
    "\n",
    "# get importances\n",
    "importances = abs(model.coef_.ravel())\n",
    "#importances = abs(best_clf[\"SVC\"].coef_.ravel())\n",
    "#importances = best_random_forest.feature_importances_\n",
    "sorted_importances = np.argsort(importances)[::-1]\n",
    "for feature_ctr in range(1,20):\n",
    "    acc_train, acc_val = train_important_feature(best_clf[\"SVC\"],\n",
    "            sorted_importances, feature_ctr, X_train, y_train, X_val, y_val)\n",
    "    importance_results_train.append(acc_train)\n",
    "    importance_results_val.append(acc_val)"
   ]
  },
  {
   "cell_type": "code",
   "execution_count": 327,
   "metadata": {},
   "outputs": [
    {
     "data": {
      "image/png": "[encoded data removed]",
      "text/plain": [
       "<Figure size 1224x720 with 1 Axes>"
      ]
     },
     "metadata": {},
     "output_type": "display_data"
    }
   ],
   "source": [
    "fig, ax = plt.subplots(1, 1, figsize = (17, 10))\n",
    "ax.plot(range(1,20), importance_results_train, 'r',\n",
    "        range(1,20), importance_results_val)\n",
    "ax.set_xlabel(\"important features\")\n",
    "ax.set_ylabel(\"accuracy\")\n",
    "ax.legend(('Train', 'Val'), loc='upper right')\n",
    "plt.title(\"Reduced Importance Performance\")\n",
    "plt.show()\n",
    "fig.savefig(\"reduce_performance.svg\")"
   ]
  },
  {
   "cell_type": "markdown",
   "metadata": {},
   "source": [
    "According to the plot, **13** is the point with least difference between training accuracy and validation accuracy among the points above 0.980."
   ]
  },
  {
   "cell_type": "markdown",
   "metadata": {},
   "source": [
    "### The Top-13 important Features"
   ]
  },
  {
   "cell_type": "markdown",
   "metadata": {},
   "source": [
    "First, list the features according to importance."
   ]
  },
  {
   "cell_type": "code",
   "execution_count": 331,
   "metadata": {
    "scrolled": false
   },
   "outputs": [
    {
     "data": {
      "image/png": "[encoded data removed]",
      "text/plain": [
       "<Figure size 864x864 with 1 Axes>"
      ]
     },
     "metadata": {},
     "output_type": "display_data"
    }
   ],
   "source": [
    "# sort importances\n",
    "columns = X_train.columns.values[sorted_importances[:20]]\n",
    "values = importances[sorted_importances][:20]\n",
    "\n",
    "# draw\n",
    "fig, _ = plt.subplots(figsize = (12, 12))\n",
    "sns.barplot(columns, values)\n",
    "plt.show()\n",
    "fig.savefig(\"Feature_importance.svg\")"
   ]
  },
  {
   "cell_type": "markdown",
   "metadata": {},
   "source": [
    "The top-13 important features are `meanfun`, `IQR`, `Q75`, `minfun`, `sfm`, `sp.ent`, `Q25`, `modindx`, `skew`, `median`, `sd`, `mode`, `mindom`. And 3 of them, `IQR`, `meanfun`, `sd` matches observation before.\n",
    "\n",
    "\n",
    "### Reduce Feature Space\n",
    "\n",
    "Only using the top-13 important feautures can simplift the model, save time for training and predicting. And it is convenient for application since only 13 features of original wave need to be extracted."
   ]
  },
  {
   "cell_type": "code",
   "execution_count": 393,
   "metadata": {
    "scrolled": false
   },
   "outputs": [
    {
     "name": "stdout",
     "output_type": "stream",
     "text": [
      "Final Model trained on full data\n",
      "------\n",
      "Accuracy on train data: 0.9926\n",
      "Accuracy on validation data: 0.9822\n",
      "\n",
      "Final Model trained on reduced data\n",
      "------\n",
      "Accuracy on train data: 0.9867\n",
      "Accuracy on validation data: 0.9862\n"
     ]
    }
   ],
   "source": [
    "from sklearn.base import clone\n",
    "\n",
    "results[\"reduced_SVC\"] = {}\n",
    "\n",
    "# reduce feature space\n",
    "X_train_reduced = X_train[X_train.columns.values[sorted_importances[:13]]]\n",
    "X_val_reduced = X_val[X_val.columns.values[sorted_importances[:13]]]\n",
    "\n",
    "# get a model based on parameters of best estimator\n",
    "clf_on_reduced = clone(best_clf[\"SVC\"])\n",
    "start = time()\n",
    "clf_on_reduced.fit(X_train_reduced, y_train)\n",
    "end = time()\n",
    "\n",
    "results[\"reduced_SVC\"][\"train_time\"] = end - start;\n",
    "\n",
    "start = time()\n",
    "clf_on_reduced.predict(X_val_reduced)\n",
    "end = time()\n",
    "\n",
    "results[\"reduced_SVC\"][\"pred_time\"] = end - start;\n",
    "\n",
    "\n",
    "# sum up\n",
    "print(\"Final Model trained on full data\\n------\")\n",
    "print(\"Accuracy on train data: {:.4f}\".format(results[\"SVC\"][\"acc_train\"]))\n",
    "print(\"Accuracy on validation data: {:.4f}\".format(results[\"SVC\"][\"acc_val\"]))\n",
    "print(\"\\nFinal Model trained on reduced data\\n------\")\n",
    "print(\"Accuracy on train data: {:.4f}\".format(clf_on_reduced.score(X_train_reduced, y_train)))\n",
    "print(\"Accuracy on validation data: {:.4f}\".format(clf_on_reduced.score(X_val_reduced, y_val)))"
   ]
  },
  {
   "cell_type": "markdown",
   "metadata": {},
   "source": [
    "The reduced model has similiar accuracy on training dataset and validation dataset, so it should have good generalizaion performance."
   ]
  },
  {
   "cell_type": "markdown",
   "metadata": {},
   "source": [
    "## Testing"
   ]
  },
  {
   "cell_type": "code",
   "execution_count": 394,
   "metadata": {
    "scrolled": false
   },
   "outputs": [
    {
     "name": "stdout",
     "output_type": "stream",
     "text": [
      "\n",
      "Final LogisticRegression trained on full data\n",
      "------\n",
      "Final accuracy score on the train data: 0.9704\n",
      "Final accuracy score on the val data: 0.9704\n",
      "Final accuracy score on the test data: 0.9637\n",
      "\n",
      "Final DecisionTreeClassifier trained on full data\n",
      "------\n",
      "Final accuracy score on the train data: 0.9990\n",
      "Final accuracy score on the val data: 0.9783\n",
      "Final accuracy score on the test data: 0.9653\n",
      "\n",
      "Final RandomForestClassifier trained on full data\n",
      "------\n",
      "Final accuracy score on the train data: 1.0000\n",
      "Final accuracy score on the val data: 0.9803\n",
      "Final accuracy score on the test data: 0.9795\n",
      "\n",
      "Final SVC trained on full data\n",
      "------\n",
      "Final accuracy score on the train data: 0.9926\n",
      "Final accuracy score on the val data: 0.9822\n",
      "Final accuracy score on the test data: 0.9811\n"
     ]
    }
   ],
   "source": [
    "for model_name in best_clf.keys():\n",
    "    print(\"\\nFinal {} trained on full data\\n------\".format(model_name))\n",
    "    print(\"Final accuracy score on the train data: {:.4f}\".format(results[model_name][\"acc_train\"]))\n",
    "    print(\"Final accuracy score on the val data: {:.4f}\".format(results[model_name][\"acc_val\"]))\n",
    "    print(\"Final accuracy score on the test data: {:.4f}\".format(best_clf[model_name].score(X_test, y_test)))"
   ]
  },
  {
   "cell_type": "code",
   "execution_count": 395,
   "metadata": {
    "scrolled": true
   },
   "outputs": [
    {
     "name": "stdout",
     "output_type": "stream",
     "text": [
      "\n",
      "Final LogisticRegression trained on full data\n",
      "------\n",
      "Training time: 0.0289\n",
      "Predicting time: 0.0078\n",
      "\n",
      "Final DecisionTreeClassifier trained on full data\n",
      "------\n",
      "Training time: 0.0431\n",
      "Predicting time: 0.0006\n",
      "\n",
      "Final RandomForestClassifier trained on full data\n",
      "------\n",
      "Training time: 0.6614\n",
      "Predicting time: 0.0310\n",
      "\n",
      "Final SVC trained on full data\n",
      "------\n",
      "Training time: 0.3816\n",
      "Predicting time: 0.0613\n"
     ]
    }
   ],
   "source": [
    "for model_name in best_clf.keys():\n",
    "    print(\"\\nFinal {} trained on full data\\n------\".format(model_name))\n",
    "    print(\"Training time: {:.4f}\".format(results[model_name][\"train_time\"]))\n",
    "    print(\"Predicting time: {:.4f}\".format(results[model_name][\"pred_time\"]))"
   ]
  },
  {
   "cell_type": "code",
   "execution_count": 396,
   "metadata": {
    "scrolled": false
   },
   "outputs": [
    {
     "name": "stdout",
     "output_type": "stream",
     "text": [
      "\n",
      "Final Model trained on reduced data\n",
      "------\n",
      "Final accuracy score on the train data: 0.9867\n",
      "Final accuracy score on the val data: 0.9862\n",
      "Final accuracy score on the test data: 0.9795\n"
     ]
    }
   ],
   "source": [
    "X_test_reduced = X_test[X_test.columns.values[sorted_importances[:13]]]\n",
    "print(\"\\nFinal Model trained on reduced data\\n------\")\n",
    "print(\"Final accuracy score on the train data: {:.4f}\".format(clf_on_reduced.score(X_train_reduced, y_train)))\n",
    "print(\"Final accuracy score on the val data: {:.4f}\".format(clf_on_reduced.score(X_val_reduced, y_val)))\n",
    "print(\"Final accuracy score on the test data: {:.4f}\".format(clf_on_reduced.score(X_test_reduced, y_test)))"
   ]
  },
  {
   "cell_type": "code",
   "execution_count": 397,
   "metadata": {
    "scrolled": true
   },
   "outputs": [
    {
     "name": "stdout",
     "output_type": "stream",
     "text": [
      "\n",
      "Final Model trained on reduced data\n",
      "------\n",
      "Training time: 0.2682\n",
      "Predicting time: 0.0074\n"
     ]
    }
   ],
   "source": [
    "print(\"\\nFinal Model trained on reduced data\\n------\")\n",
    "print(\"Training time: {:.4f}\".format(results[\"reduced_SVC\"][\"train_time\"]))\n",
    "print(\"Predicting time: {:.4f}\".format(results[\"reduced_SVC\"][\"pred_time\"]))"
   ]
  },
  {
   "cell_type": "markdown",
   "metadata": {},
   "source": [
    "After reduction, the model has low variances(< 1% difference between training data and testing data) and still achieve high testing accuracy of 97.95%. Considering the decreased amount of calculation and simplification of feature extracting, it is reasonible to use the reduced model for application."
   ]
  },
  {
   "cell_type": "markdown",
   "metadata": {},
   "source": [
    "---\n",
    "## Save Model"
   ]
  },
  {
   "cell_type": "code",
   "execution_count": 398,
   "metadata": {},
   "outputs": [],
   "source": [
    "with open('model.pkl', 'wb') as fid:\n",
    "    pickle.dump(clf_on_reduced, fid,2) "
   ]
  },
  {
   "cell_type": "code",
   "execution_count": 399,
   "metadata": {
    "scrolled": true
   },
   "outputs": [],
   "source": [
    "features_min_reduced = features_min[sorted_importances[:13]]\n",
    "features_max_reduced = features_max[sorted_importances[:13]]\n",
    "with open('scale.pkl', 'wb') as fid:\n",
    "    pickle.dump((features_min_reduced, features_max_reduced), fid,2) "
   ]
  }
 ],
 "metadata": {
  "kernelspec": {
   "display_name": "Python 3",
   "language": "python",
   "name": "python3"
  },
  "language_info": {
   "codemirror_mode": {
    "name": "ipython",
    "version": 3
   },
   "file_extension": ".py",
   "mimetype": "text/x-python",
   "name": "python",
   "nbconvert_exporter": "python",
   "pygments_lexer": "ipython3",
   "version": "3.6.5"
  }
 },
 "nbformat": 4,
 "nbformat_minor": 2
}
